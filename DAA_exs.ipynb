{
  "nbformat": 4,
  "nbformat_minor": 0,
  "metadata": {
    "colab": {
      "provenance": [],
      "authorship_tag": "ABX9TyNKVy/l3krfhMneWat0wvFj",
      "include_colab_link": true
    },
    "kernelspec": {
      "name": "python3",
      "display_name": "Python 3"
    },
    "language_info": {
      "name": "python"
    }
  },
  "cells": [
    {
      "cell_type": "markdown",
      "metadata": {
        "id": "view-in-github",
        "colab_type": "text"
      },
      "source": [
        "<a href=\"https://colab.research.google.com/github/geetha2612/DAA/blob/main/DAA_exs.ipynb\" target=\"_parent\"><img src=\"https://colab.research.google.com/assets/colab-badge.svg\" alt=\"Open In Colab\"/></a>"
      ]
    },
    {
      "cell_type": "code",
      "execution_count": null,
      "metadata": {
        "colab": {
          "base_uri": "https://localhost:8080/"
        },
        "id": "upXVmewocOOM",
        "outputId": "b7816a28-0ace-426d-fcd5-01ba8dad456c"
      },
      "outputs": [
        {
          "output_type": "stream",
          "name": "stdout",
          "text": [
            "Sorted array: \n",
            "4 16 33 50 65 82 99 "
          ]
        }
      ],
      "source": [
        "def heapify(arr,n,i):\n",
        "    large=i\n",
        "    lty=2*i+1\n",
        "    rty=2*i+2\n",
        "    if lty<n and arr[large]<arr[lty]:\n",
        "        large=lty\n",
        "    if rty<n and arr[large]<arr[rty]:\n",
        "        large=rty\n",
        "    if large!=i:\n",
        "        arr[i],arr[large]=arr[large],arr[i]\n",
        "        heapify(arr,n,large)\n",
        "def heapSort(arr):\n",
        "    n=len(arr)\n",
        "    for i in range(n//2-1,-1,-1):\n",
        "        heapify(arr,n,i)\n",
        "    for i in range(n-1,0,-1):\n",
        "        arr[i],arr[0]=arr[0],arr[i]\n",
        "        heapify(arr,i,0)\n",
        "arr=[4,16,33,99,82,65,50]\n",
        "n=len(arr)\n",
        "print(\"Sorted array: \")\n",
        "heapSort(arr)\n",
        "for i in range(0,n):\n",
        "    print(\"%d\"%arr[i],end=\" \")\n",
        "\n"
      ]
    },
    {
      "cell_type": "markdown",
      "source": [
        "Strassens Matrix"
      ],
      "metadata": {
        "id": "vJe4YjKKBGyM"
      }
    },
    {
      "cell_type": "code",
      "source": [
        "import numpy as np\n",
        "def strassen_algorithm(x, y):\n",
        "    if x.size == 1 or y.size == 1:\n",
        "        return x * y\n",
        "    n = x.shape[0]\n",
        "    if n % 2 == 1:\n",
        "        x = np.pad(x, (0, 1), mode='constant')\n",
        "        y = np.pad(y, (0, 1), mode='constant')\n",
        "    m = int(np.ceil(n / 2))\n",
        "    a = x[: m, : m]\n",
        "    b = x[: m, m:]\n",
        "    c = x[m:, : m]\n",
        "    d = x[m:, m:]\n",
        "    e = y[: m, : m]\n",
        "    f = y[: m, m:]\n",
        "    g = y[m:, : m]\n",
        "    h = y[m:, m:]\n",
        "    p1 = strassen_algorithm(a, f - h)\n",
        "    p2 = strassen_algorithm(a + b, h)\n",
        "    p3 = strassen_algorithm(c + d, e)\n",
        "    p4 = strassen_algorithm(d, g - e)\n",
        "    p5 = strassen_algorithm(a + d, e + h)\n",
        "    p6 = strassen_algorithm(b - d, g + h)\n",
        "    p7 = strassen_algorithm(a - c, e + f)\n",
        "    result = np.zeros((2 * m, 2 * m), dtype=np.int32)\n",
        "    result[: m, : m] = p5 + p4 - p2 + p6\n",
        "    result[: m, m:] = p1 + p2\n",
        "    result[m:, : m] = p3 + p4\n",
        "    result[m:, m:] = p1 + p5 - p3 - p7\n",
        "    return result[: n, : n]\n",
        "x = np.array([[3,9,0], [2,5,-5], [4,0,-11]])\n",
        "y = np.array([[-10, 0, 4], [8, -1, 1], [0, 7, -19]])\n",
        "print('Matrix multiplication result: ')\n",
        "print(strassen_algorithm(x, y))\n"
      ],
      "metadata": {
        "colab": {
          "base_uri": "https://localhost:8080/"
        },
        "id": "rwtb9ofbhcD8",
        "outputId": "cab8273f-b74d-429e-af41-d4c575467f07"
      },
      "execution_count": null,
      "outputs": [
        {
          "output_type": "stream",
          "name": "stdout",
          "text": [
            "Matrix multiplication result: \n",
            "[[ 42  -9  21]\n",
            " [ 20 -40 108]\n",
            " [-40 -77 225]]\n"
          ]
        }
      ]
    },
    {
      "cell_type": "markdown",
      "source": [
        "Topolgical Sorting"
      ],
      "metadata": {
        "id": "Ak1DN0DcA9yk"
      }
    },
    {
      "cell_type": "code",
      "source": [
        "from collections import defaultdict\n",
        "class Graph:\n",
        "    \"\"\"A class is created to implement topological sort.\"\"\"\n",
        "    def __init__(self,vertices):\n",
        "        self.graph=defaultdict(list)\n",
        "        self.V=vertices\n",
        "    def Add_edge(self,u,v):\n",
        "        \"\"\"Adds an edge to the graph.\"\"\"\n",
        "        self.graph[u].append(v)\n",
        "    def topological_SortUtil(self,v,visited,stack):\n",
        "        \"\"\"A function used by topological sort.\"\"\"\n",
        "        visited[v]=True\n",
        "        for i in self.graph[v]:\n",
        "            if visited[i]==False:\n",
        "                self.topological_SortUtil(i,visited,stack)\n",
        "        stack.insert(0,v)\n",
        "    def topologicalSort(self):\n",
        "        \"\"\"Perfoms topological sort.\"\"\"\n",
        "        visited=[False]*self.V\n",
        "        stack=[]\n",
        "        for i in range(self.V):\n",
        "            if visited[i]==False:\n",
        "                self.topological_SortUtil(i,visited,stack)\n",
        "        print(stack)\n",
        "g=Graph(6)\n",
        "g.Add_edge(5,2)\n",
        "g.Add_edge(5,0)\n",
        "g.Add_edge(4,0)\n",
        "g.Add_edge(4,1)\n",
        "g.Add_edge(2,3)\n",
        "g.Add_edge(3,1)\n",
        "print(\"Following is a Topological Sorting: \")\n",
        "g.topologicalSort()\n"
      ],
      "metadata": {
        "colab": {
          "base_uri": "https://localhost:8080/"
        },
        "id": "Bku1dP0_dpJ6",
        "outputId": "deacf139-abaa-4295-b8bb-97f359635aa0"
      },
      "execution_count": null,
      "outputs": [
        {
          "output_type": "stream",
          "name": "stdout",
          "text": [
            "Following is a Topological Sorting: \n",
            "[5, 4, 2, 3, 1, 0]\n"
          ]
        }
      ]
    },
    {
      "cell_type": "markdown",
      "source": [
        "Recursive and Non recursive"
      ],
      "metadata": {
        "id": "fJrgyh3hBOk-"
      }
    },
    {
      "cell_type": "code",
      "source": [
        "import math\n",
        "n=100\n",
        "count=0\n",
        "a=1\n",
        "while(a<=n):\n",
        "  a*=2\n",
        "  count+=1\n",
        "print(math.log(count))\n",
        "#recursive binary search O(log n)\n",
        "def binary_search(arr,x,low,high):\n",
        "  if high>=low:\n",
        "    mid=(low+high)//2\n",
        "  if arr[mid]==x:\n",
        "    return mid\n",
        "  if arr[mid]>x:\n",
        "    return binary_search(arr,x,low,mid-1)\n",
        "  if arr[mid]>x:\n",
        "    return binary_search(arr,x,mid+1,high)\n",
        "  return -1\n",
        "\n",
        "#Driver code\n",
        "array=[3,9,0,2]\n",
        "x=int(input(\"Enter an element to search: \"))\n",
        "res=binary_search(array,x,0,(len(array)-1))\n",
        "if res==-1:\n",
        "  print(\"Element not found\")\n",
        "print(\"Element found at: \",res,'position')\n",
        "\n",
        "#recursive to find factorial of n\n",
        "#n!\n",
        "#when the factorial function calls itself again and again it gets added and become n!\n",
        "def factorial(n):\n",
        "  if n==1 or n==0:\n",
        "    return 1\n",
        "  return n * factorial (n-1)\n",
        "n=int(input(\"Enter a number: \"))\n",
        "print(\"The factorial of\",n,'is',factorial(n))"
      ],
      "metadata": {
        "colab": {
          "base_uri": "https://localhost:8080/"
        },
        "id": "EcWoL0JGjZ4T",
        "outputId": "f67b6b9e-c2e5-4298-95de-8d5ec17923f3"
      },
      "execution_count": null,
      "outputs": [
        {
          "output_type": "stream",
          "name": "stdout",
          "text": [
            "1.9459101490553132\n",
            "Enter an element to search: 9\n",
            "Element found at:  1 position\n",
            "Enter a number: 9\n",
            "The factorial of 9 is 362880\n"
          ]
        }
      ]
    },
    {
      "cell_type": "markdown",
      "source": [
        "Floyd Warshall"
      ],
      "metadata": {
        "id": "dU4hRB0YAtti"
      }
    },
    {
      "cell_type": "code",
      "source": [
        "V = 4\n",
        "INF = 99999\n",
        "\n",
        "\n",
        "def floydWarshall(graph):\n",
        "\n",
        "\n",
        "    dist = list(map(lambda i: list(map(lambda j: j, i)), graph))\n",
        "\n",
        "\n",
        "    for k in range(V):\n",
        "\n",
        "\n",
        "        for i in range(V):\n",
        "\n",
        "\n",
        "            for j in range(V):\n",
        "\n",
        "\n",
        "                dist[i][j] = min(dist[i][j],\n",
        "                                 dist[i][k] + dist[k][j]\n",
        "                                 )\n",
        "    printSolution(dist)\n",
        "\n",
        "\n",
        "\n",
        "def printSolution(dist):\n",
        "    print(\"Following matrix shows the shortest distances\\\n",
        " between every pair of vertices\")\n",
        "    for i in range(V):\n",
        "        for j in range(V):\n",
        "            if(dist[i][j] == INF):\n",
        "                print(\"%7s\" % (\"INF\"), end=\" \")\n",
        "            else:\n",
        "                print(\"%7d\\t\" % (dist[i][j]), end=' ')\n",
        "            if j == V-1:\n",
        "                print()\n",
        "\n",
        "\n",
        "# Driver's code\n",
        "if __name__ == \"__main__\":\n",
        "  \"\"\"\n",
        "              10\n",
        "         (0)------->(3)\n",
        "          |         /|\\\n",
        "        5 |          |\n",
        "          |          | 1\n",
        "         \\|/         |\n",
        "         (1)------->(2)\n",
        "              3           \"\"\"\n",
        "  graph = [[0, 5, INF, 10],\n",
        "         [INF, 0, 3, INF],\n",
        "         [INF, INF, 0,   1],\n",
        "         [INF, INF, INF, 0]\n",
        "         ]\n",
        "  # Function call\n",
        "  floydWarshall(graph)\n",
        "# This code is contributed by Mythri J L"
      ],
      "metadata": {
        "colab": {
          "base_uri": "https://localhost:8080/"
        },
        "id": "9y3w5PAI0KwM",
        "outputId": "092b9668-ec56-4260-9703-18774ef082eb"
      },
      "execution_count": null,
      "outputs": [
        {
          "output_type": "stream",
          "name": "stdout",
          "text": [
            "Following matrix shows the shortest distances between every pair of vertices\n",
            "      0\t       5\t       8\t       9\t \n",
            "    INF       0\t       3\t       4\t \n",
            "    INF     INF       0\t       1\t \n",
            "    INF     INF     INF       0\t \n"
          ]
        }
      ]
    },
    {
      "cell_type": "markdown",
      "source": [
        "KnapSack prblm"
      ],
      "metadata": {
        "id": "G3BVkl-bAlry"
      }
    },
    {
      "cell_type": "code",
      "source": [
        "def knapSack(W, wt, val, n):\n",
        "\n",
        "    # Base Case\n",
        "    if n == 0 or W == 0:\n",
        "        return 0\n",
        "\n",
        "    # If weight of the nth item is\n",
        "    # more than Knapsack of capacity W,\n",
        "    # then this item cannot be included\n",
        "    # in the optimal solution\n",
        "    if (wt[n-1] > W):\n",
        "        return knapSack(W, wt, val, n-1)\n",
        "\n",
        "    # return the maximum of two cases:\n",
        "    # (1) nth item included\n",
        "    # (2) not included\n",
        "    else:\n",
        "        return max(\n",
        "            val[n-1] + knapSack(\n",
        "                W-wt[n-1], wt, val, n-1),\n",
        "            knapSack(W, wt, val, n-1))\n",
        "\n",
        "# end of function knapSack\n",
        "\n",
        "\n",
        "#Driver Code\n",
        "val = [60, 100, 120]\n",
        "wt = [10, 20, 30]\n",
        "W = 50\n",
        "n = len(val)\n",
        "print (knapSack(W, wt, val, n))\n",
        "\n",
        "# This code is contributed by Nikhil Kumar Singh"
      ],
      "metadata": {
        "colab": {
          "base_uri": "https://localhost:8080/"
        },
        "id": "OJAVWO0m0kJ2",
        "outputId": "606cca88-4873-40d8-9b4e-a9e5c3e2cd96"
      },
      "execution_count": null,
      "outputs": [
        {
          "output_type": "stream",
          "name": "stdout",
          "text": [
            "220\n"
          ]
        }
      ]
    },
    {
      "cell_type": "markdown",
      "source": [
        "Coin change prblm"
      ],
      "metadata": {
        "id": "e7Ze2OVUAdPS"
      }
    },
    {
      "cell_type": "code",
      "source": [
        "def count(coins, n, sum):\n",
        "\n",
        "    # If sum is 0 then there is 1\n",
        "    # solution (do not include any coin)\n",
        "    if (sum == 0):\n",
        "        return 1\n",
        "\n",
        "    # If sum is less than 0 then no\n",
        "    # solution exists\n",
        "    if (sum < 0):\n",
        "        return 0\n",
        "\n",
        "    # If there are no coins and sum\n",
        "    # is greater than 0, then no\n",
        "    # solution exist\n",
        "    if (n <= 0):\n",
        "        return 0\n",
        "\n",
        "    # count is sum of solutions (i)\n",
        "    # including coins[n-1] (ii) excluding coins[n-1]\n",
        "    return count(coins, n - 1, sum) + count(coins, n, sum-coins[n-1])\n",
        "\n",
        "\n",
        "# Driver program to test above function\n",
        "coins = [1, 2, 3]\n",
        "n = len(coins)\n",
        "print(count(coins, n, 4))"
      ],
      "metadata": {
        "colab": {
          "base_uri": "https://localhost:8080/"
        },
        "id": "PrUuzPaQ1aLs",
        "outputId": "53ebc32b-878e-4706-e1ce-f89cbef39e35"
      },
      "execution_count": null,
      "outputs": [
        {
          "output_type": "stream",
          "name": "stdout",
          "text": [
            "4\n"
          ]
        }
      ]
    },
    {
      "cell_type": "markdown",
      "source": [
        "Floyd Warshall Algorithm"
      ],
      "metadata": {
        "id": "2HWYvymADilC"
      }
    },
    {
      "cell_type": "code",
      "source": [
        "# Floyd Warshall Algorithm in python\n",
        "\n",
        "\n",
        "# The number of vertices\n",
        "nV = 4\n",
        "\n",
        "INF = 999\n",
        "\n",
        "\n",
        "# Algorithm implementation\n",
        "def floyd_warshall(G):\n",
        "    distance = list(map(lambda i: list(map(lambda j: j, i)), G))\n",
        "\n",
        "    # Adding vertices individually\n",
        "    for k in range(nV):\n",
        "        for i in range(nV):\n",
        "            for j in range(nV):\n",
        "                distance[i][j] = min(distance[i][j], distance[i][k] + distance[k][j])\n",
        "    print_solution(distance)\n",
        "\n",
        "\n",
        "# Printing the solution\n",
        "def print_solution(distance):\n",
        "    for i in range(nV):\n",
        "        for j in range(nV):\n",
        "            if(distance[i][j] == INF):\n",
        "                print(\"INF\", end=\" \")\n",
        "            else:\n",
        "                print(distance[i][j], end=\"  \")\n",
        "        print(\" \")\n",
        "\n",
        "\n",
        "G = [[0, 3, INF, 5],\n",
        "         [2, 0, INF, 4],\n",
        "         [INF, 1, 0, INF],\n",
        "         [INF, INF, 2, 0]]\n",
        "floyd_warshall(G)"
      ],
      "metadata": {
        "colab": {
          "base_uri": "https://localhost:8080/"
        },
        "id": "jRHshx5NCHFQ",
        "outputId": "91288d8b-fe29-4c34-db73-99b977194cf4"
      },
      "execution_count": null,
      "outputs": [
        {
          "output_type": "stream",
          "name": "stdout",
          "text": [
            "0  3  7  5   \n",
            "2  0  6  4   \n",
            "3  1  0  5   \n",
            "5  3  2  0   \n"
          ]
        }
      ]
    },
    {
      "cell_type": "markdown",
      "source": [
        "Dijikstras Algorithm"
      ],
      "metadata": {
        "id": "HYb66Wr3DxYf"
      }
    },
    {
      "cell_type": "code",
      "source": [
        "# Dijkstra's Algorithm in Python\n",
        "\n",
        "\n",
        "import sys\n",
        "\n",
        "# Providing the graph\n",
        "vertices = [[0, 0, 1, 1, 0, 0, 0],\n",
        "            [0, 0, 1, 0, 0, 1, 0],\n",
        "            [1, 1, 0, 1, 1, 0, 0],\n",
        "            [1, 0, 1, 0, 0, 0, 1],\n",
        "            [0, 0, 1, 0, 0, 1, 0],\n",
        "            [0, 1, 0, 0, 1, 0, 1],\n",
        "            [0, 0, 0, 1, 0, 1, 0]]\n",
        "\n",
        "edges = [[0, 0, 1, 2, 0, 0, 0],\n",
        "         [0, 0, 2, 0, 0, 3, 0],\n",
        "         [1, 2, 0, 1, 3, 0, 0],\n",
        "         [2, 0, 1, 0, 0, 0, 1],\n",
        "         [0, 0, 3, 0, 0, 2, 0],\n",
        "         [0, 3, 0, 0, 2, 0, 1],\n",
        "         [0, 0, 0, 1, 0, 1, 0]]\n",
        "\n",
        "# Find which vertex is to be visited next\n",
        "def to_be_visited():\n",
        "    global visited_and_distance\n",
        "    v = -10\n",
        "    for index in range(num_of_vertices):\n",
        "        if visited_and_distance[index][0] == 0 \\\n",
        "            and (v < 0 or visited_and_distance[index][1] <=\n",
        "                 visited_and_distance[v][1]):\n",
        "            v = index\n",
        "    return v\n",
        "\n",
        "\n",
        "num_of_vertices = len(vertices[0])\n",
        "\n",
        "visited_and_distance = [[0, 0]]\n",
        "for i in range(num_of_vertices-1):\n",
        "    visited_and_distance.append([0, sys.maxsize])\n",
        "\n",
        "for vertex in range(num_of_vertices):\n",
        "\n",
        "    # Find next vertex to be visited\n",
        "    to_visit = to_be_visited()\n",
        "    for neighbor_index in range(num_of_vertices):\n",
        "\n",
        "        # Updating new distances\n",
        "        if vertices[to_visit][neighbor_index] == 1 and \\\n",
        "                visited_and_distance[neighbor_index][0] == 0:\n",
        "            new_distance = visited_and_distance[to_visit][1] \\\n",
        "                + edges[to_visit][neighbor_index]\n",
        "            if visited_and_distance[neighbor_index][1] > new_distance:\n",
        "                visited_and_distance[neighbor_index][1] = new_distance\n",
        "\n",
        "        visited_and_distance[to_visit][0] = 1\n",
        "\n",
        "i = 0\n",
        "\n",
        "# Printing the distance\n",
        "for distance in visited_and_distance:\n",
        "    print(\"Distance of \", chr(ord('a') + i),\n",
        "          \" from source vertex: \", distance[1])\n",
        "    i = i + 1"
      ],
      "metadata": {
        "colab": {
          "base_uri": "https://localhost:8080/"
        },
        "id": "tVomx_qIDo6_",
        "outputId": "5a21537e-c84b-45fd-afe1-7fb52ff4aa54"
      },
      "execution_count": null,
      "outputs": [
        {
          "output_type": "stream",
          "name": "stdout",
          "text": [
            "Distance of  a  from source vertex:  0\n",
            "Distance of  b  from source vertex:  3\n",
            "Distance of  c  from source vertex:  1\n",
            "Distance of  d  from source vertex:  2\n",
            "Distance of  e  from source vertex:  4\n",
            "Distance of  f  from source vertex:  4\n",
            "Distance of  g  from source vertex:  3\n"
          ]
        }
      ]
    },
    {
      "cell_type": "markdown",
      "source": [
        "Huffman Trees and codes"
      ],
      "metadata": {
        "id": "YxJB7uGzEbg3"
      }
    },
    {
      "cell_type": "code",
      "source": [
        "# Huffman Coding in python\n",
        "\n",
        "string = 'BCAADDDCCACACAC'\n",
        "\n",
        "\n",
        "# Creating tree nodes\n",
        "class NodeTree(object):\n",
        "\n",
        "    def __init__(self, left=None, right=None):\n",
        "        self.left = left\n",
        "        self.right = right\n",
        "\n",
        "    def children(self):\n",
        "        return (self.left, self.right)\n",
        "\n",
        "    def nodes(self):\n",
        "        return (self.left, self.right)\n",
        "\n",
        "    def __str__(self):\n",
        "        return '%s_%s' % (self.left, self.right)\n",
        "\n",
        "\n",
        "# Main function implementing huffman coding\n",
        "def huffman_code_tree(node, left=True, binString=''):\n",
        "    if type(node) is str:\n",
        "        return {node: binString}\n",
        "    (l, r) = node.children()\n",
        "    d = dict()\n",
        "    d.update(huffman_code_tree(l, True, binString + '0'))\n",
        "    d.update(huffman_code_tree(r, False, binString + '1'))\n",
        "    return d\n",
        "\n",
        "\n",
        "# Calculating frequency\n",
        "freq = {}\n",
        "for c in string:\n",
        "    if c in freq:\n",
        "        freq[c] += 1\n",
        "    else:\n",
        "        freq[c] = 1\n",
        "\n",
        "freq = sorted(freq.items(), key=lambda x: x[1], reverse=True)\n",
        "\n",
        "nodes = freq\n",
        "\n",
        "while len(nodes) > 1:\n",
        "    (key1, c1) = nodes[-1]\n",
        "    (key2, c2) = nodes[-2]\n",
        "    nodes = nodes[:-2]\n",
        "    node = NodeTree(key1, key2)\n",
        "    nodes.append((node, c1 + c2))\n",
        "\n",
        "    nodes = sorted(nodes, key=lambda x: x[1], reverse=True)\n",
        "\n",
        "huffmanCode = huffman_code_tree(nodes[0][0])\n",
        "\n",
        "print(' Char | Huffman code ')\n",
        "print('----------------------')\n",
        "for (char, frequency) in freq:\n",
        "    print(' %-4r |%12s' % (char, huffmanCode[char]))"
      ],
      "metadata": {
        "colab": {
          "base_uri": "https://localhost:8080/"
        },
        "id": "UhpFekWXD8vG",
        "outputId": "37cfa8e5-9c2e-4acf-eb07-47a82fc6f024"
      },
      "execution_count": null,
      "outputs": [
        {
          "output_type": "stream",
          "name": "stdout",
          "text": [
            " Char | Huffman code \n",
            "----------------------\n",
            " 'C'  |           0\n",
            " 'A'  |          11\n",
            " 'D'  |         101\n",
            " 'B'  |         100\n"
          ]
        }
      ]
    },
    {
      "cell_type": "markdown",
      "source": [
        "Simplex Method"
      ],
      "metadata": {
        "id": "OgsgINhWQZog"
      }
    },
    {
      "cell_type": "code",
      "source": [
        "c = [1, 1, 0, 0, 0]\n",
        "A = [\n",
        "    [-1, 1, 1, 0, 0],\n",
        "    [ 1, 0, 0, 1, 0],\n",
        "    [ 0, 1, 0, 0, 1]\n",
        "]\n",
        "b = [2, 4, 4]"
      ],
      "metadata": {
        "id": "YP1Muc0uOrWV"
      },
      "execution_count": null,
      "outputs": []
    },
    {
      "cell_type": "code",
      "source": [
        "def to_tableau(c, A, b):\n",
        "    xb = [eq + [x] for eq, x in zip(A, b)]\n",
        "    z = c + [0]\n",
        "    return xb + [z]"
      ],
      "metadata": {
        "id": "YhvSYS9_Qj3X"
      },
      "execution_count": null,
      "outputs": []
    },
    {
      "cell_type": "code",
      "source": [
        "def can_be_improved(tableau):\n",
        "    z = tableau[-1]\n",
        "    return any(x > 0 for x in z[:-1])"
      ],
      "metadata": {
        "id": "t3nNztPbQseP"
      },
      "execution_count": null,
      "outputs": []
    },
    {
      "cell_type": "code",
      "source": [
        "import math\n",
        "\n",
        "def get_pivot_position(tableau):\n",
        "    z = tableau[-1]\n",
        "    column = next(i for i, x in enumerate(z[:-1]) if x > 0)\n",
        "\n",
        "    restrictions = []\n",
        "    for eq in tableau[:-1]:\n",
        "        el = eq[column]\n",
        "        restrictions.append(math.inf if el <= 0 else eq[-1] / el)\n",
        "\n",
        "    row = restrictions.index(min(restrictions))\n",
        "    return row, column"
      ],
      "metadata": {
        "id": "SQOjBotmQ0mS"
      },
      "execution_count": null,
      "outputs": []
    },
    {
      "cell_type": "code",
      "source": [
        "import numpy as np\n",
        "def pivot_step(tableau, pivot_position):\n",
        "    new_tableau = [[] for eq in tableau]\n",
        "\n",
        "    i, j = pivot_position\n",
        "    pivot_value = tableau[i][j]\n",
        "    new_tableau[i] = np.array(tableau[i]) / pivot_value\n",
        "\n",
        "    for eq_i, eq in enumerate(tableau):\n",
        "        if eq_i != i:\n",
        "            multiplier = np.array(new_tableau[i]) * tableau[eq_i][j]\n",
        "            new_tableau[eq_i] = np.array(tableau[eq_i]) - multiplier\n",
        "\n",
        "    return new_tableau"
      ],
      "metadata": {
        "id": "CZTyShUdQ4e6"
      },
      "execution_count": null,
      "outputs": []
    },
    {
      "cell_type": "code",
      "source": [
        "def is_basic(column):\n",
        "    return sum(column) == 1 and len([c for c in column if c == 0]) == len(column) - 1\n",
        "\n",
        "def get_solution(tableau):\n",
        "    columns = np.array(tableau).T\n",
        "    solutions = []\n",
        "    for column in columns:\n",
        "        solution = 0\n",
        "        if is_basic(column):\n",
        "            one_index = column.tolist().index(1)\n",
        "            solution = columns[-1][one_index]\n",
        "        solutions.append(solution)\n",
        "\n",
        "    return solutions"
      ],
      "metadata": {
        "id": "70m-BzJxQ8bi"
      },
      "execution_count": null,
      "outputs": []
    },
    {
      "cell_type": "code",
      "source": [
        "def simplex(c, A, b):\n",
        "    tableau = to_tableau(c, A, b)\n",
        "\n",
        "    while can_be_improved(tableau):\n",
        "        pivot_position = get_pivot_position(tableau)\n",
        "        tableau = pivot_step(tableau, pivot_position)\n",
        "\n",
        "    return get_solution(tableau)"
      ],
      "metadata": {
        "id": "cwFqKPq2RBAW"
      },
      "execution_count": null,
      "outputs": []
    },
    {
      "cell_type": "code",
      "source": [
        "solution = simplex(c, A, b)\n",
        "print('solution: ', solution)"
      ],
      "metadata": {
        "colab": {
          "base_uri": "https://localhost:8080/"
        },
        "id": "UtOjOSZHREWW",
        "outputId": "5fdfd3a0-3f8b-495b-df4f-a785e1f0b36b"
      },
      "execution_count": null,
      "outputs": [
        {
          "output_type": "stream",
          "name": "stdout",
          "text": [
            "solution:  [4.0, 4.0, 2.0, 0, 0, 0]\n"
          ]
        }
      ]
    },
    {
      "cell_type": "markdown",
      "source": [
        "N queen problem"
      ],
      "metadata": {
        "id": "vu0Sc2UkR7Rf"
      }
    },
    {
      "cell_type": "code",
      "source": [
        "# Python program to solve N Queen\n",
        "# Problem using backtracking\n",
        "\n",
        "global N\n",
        "N = 4\n",
        "\n",
        "def printSolution(board):\n",
        "\tfor i in range(N):\n",
        "\t\tfor j in range(N):\n",
        "\t\t\tprint (board[i][j],end=' ')\n",
        "\t\tprint()\n",
        "\n",
        "\n",
        "# A utility function to check if a queen can\n",
        "# be placed on board[row][col]. Note that this\n",
        "# function is called when \"col\" queens are\n",
        "# already placed in columns from 0 to col -1.\n",
        "# So we need to check only left side for\n",
        "# attacking queens\n",
        "def isSafe(board, row, col):\n",
        "\n",
        "\t# Check this row on left side\n",
        "\tfor i in range(col):\n",
        "\t\tif board[row][i] == 1:\n",
        "\t\t\treturn False\n",
        "\n",
        "\t# Check upper diagonal on left side\n",
        "\tfor i, j in zip(range(row, -1, -1), range(col, -1, -1)):\n",
        "\t\tif board[i][j] == 1:\n",
        "\t\t\treturn False\n",
        "\n",
        "\t# Check lower diagonal on left side\n",
        "\tfor i, j in zip(range(row, N, 1), range(col, -1, -1)):\n",
        "\t\tif board[i][j] == 1:\n",
        "\t\t\treturn False\n",
        "\n",
        "\treturn True\n",
        "\n",
        "def solveNQUtil(board, col):\n",
        "\t# base case: If all queens are placed\n",
        "\t# then return true\n",
        "\tif col >= N:\n",
        "\t\treturn True\n",
        "\n",
        "\t# Consider this column and try placing\n",
        "\t# this queen in all rows one by one\n",
        "\tfor i in range(N):\n",
        "\n",
        "\t\tif isSafe(board, i, col):\n",
        "\t\t\t# Place this queen in board[i][col]\n",
        "\t\t\tboard[i][col] = 1\n",
        "\n",
        "\t\t\t# recur to place rest of the queens\n",
        "\t\t\tif solveNQUtil(board, col + 1) == True:\n",
        "\t\t\t\treturn True\n",
        "\n",
        "\t\t\t# If placing queen in board[i][col\n",
        "\t\t\t# doesn't lead to a solution, then\n",
        "\t\t\t# queen from board[i][col]\n",
        "\t\t\tboard[i][col] = 0\n",
        "\n",
        "\t# if the queen can not be placed in any row in\n",
        "\t# this column col then return false\n",
        "\treturn False\n",
        "\n",
        "# This function solves the N Queen problem using\n",
        "# Backtracking. It mainly uses solveNQUtil() to\n",
        "# solve the problem. It returns false if queens\n",
        "# cannot be placed, otherwise return true and\n",
        "# placement of queens in the form of 1s.\n",
        "# note that there may be more than one\n",
        "# solutions, this function prints one of the\n",
        "# feasible solutions.\n",
        "def solveNQ():\n",
        "\tboard = [ [0, 0, 0, 0],\n",
        "\t\t\t[0, 0, 0, 0],\n",
        "\t\t\t[0, 0, 0, 0],\n",
        "\t\t\t[0, 0, 0, 0]\n",
        "\t\t\t]\n",
        "\n",
        "\tif solveNQUtil(board, 0) == False:\n",
        "\t\tprint (\"Solution does not exist\")\n",
        "\t\treturn False\n",
        "\n",
        "\tprintSolution(board)\n",
        "\treturn True\n",
        "\n",
        "# driver program to test above function\n",
        "solveNQ()\n",
        "\n",
        "# This code is contributed by Divyanshu Mehta\n"
      ],
      "metadata": {
        "colab": {
          "base_uri": "https://localhost:8080/"
        },
        "id": "lyP_UyUFSBXv",
        "outputId": "74cd513a-cd08-45f8-e90c-f014d10a86e7"
      },
      "execution_count": null,
      "outputs": [
        {
          "output_type": "stream",
          "name": "stdout",
          "text": [
            "0 0 1 0 \n",
            "1 0 0 0 \n",
            "0 0 0 1 \n",
            "0 1 0 0 \n"
          ]
        },
        {
          "output_type": "execute_result",
          "data": {
            "text/plain": [
              "True"
            ]
          },
          "metadata": {},
          "execution_count": 13
        }
      ]
    },
    {
      "cell_type": "markdown",
      "source": [
        "Subset Sum Problem"
      ],
      "metadata": {
        "id": "vKnxTJGYSea3"
      }
    },
    {
      "cell_type": "code",
      "source": [
        "# A recursive solution for subset sum\n",
        "# problem\n",
        "\n",
        "# Returns true if there is a subset\n",
        "# of set[] with sun equal to given sum\n",
        "def isSubsetSum(set, n, sum) :\n",
        "\n",
        "\t# Base Cases\n",
        "\tif (sum == 0) :\n",
        "\t\treturn True\n",
        "\tif (n == 0 and sum != 0) :\n",
        "\t\treturn False\n",
        "\n",
        "\t# If last element is greater than\n",
        "\t# sum, then ignore it\n",
        "\tif (set[n - 1] > sum) :\n",
        "\t\treturn isSubsetSum(set, n - 1, sum);\n",
        "\n",
        "\t# else, check if sum can be obtained\n",
        "\t# by any of the following\n",
        "\t# (a) including the last element\n",
        "\t# (b) excluding the last element\n",
        "\treturn isSubsetSum(set, n-1, sum) or isSubsetSum(set, n-1, sum-set[n-1])\n",
        "\n",
        "\n",
        "# Driver program to test above function\n",
        "set = [3, 34, 4, 12, 5, 2]\n",
        "sum = 9\n",
        "n = len(set)\n",
        "if (isSubsetSum(set, n, sum) == True) :\n",
        "\tprint(\"Found a subset with given sum\")\n",
        "else :\n",
        "\tprint(\"No subset with given sum\")\n",
        "\n",
        "# This code is contributed by Nikita Tiwari.\n"
      ],
      "metadata": {
        "colab": {
          "base_uri": "https://localhost:8080/"
        },
        "id": "KwFYKkw-SirP",
        "outputId": "a3fe2950-ecac-4ded-ee77-d8022c250837"
      },
      "execution_count": null,
      "outputs": [
        {
          "output_type": "stream",
          "name": "stdout",
          "text": [
            "Found a subset with given sum\n"
          ]
        }
      ]
    },
    {
      "cell_type": "markdown",
      "source": [
        "Traveling Salesman Problem"
      ],
      "metadata": {
        "id": "EVTBAaWwT0iT"
      }
    },
    {
      "cell_type": "code",
      "source": [
        "\n",
        "import math\n",
        "maxsize = float('inf')\n",
        "def copyToFinal(curr_path):\n",
        "\tfinal_path[:N + 1] = curr_path[:]\n",
        "\tfinal_path[N] = curr_path[0]\n",
        "\n",
        "def firstMin(adj, i):\n",
        "\tmin = maxsize\n",
        "\tfor k in range(N):\n",
        "\t\tif adj[i][k] < min and i != k:\n",
        "\t\t\tmin = adj[i][k]\n",
        "\n",
        "\treturn min\n",
        "\n",
        "def secondMin(adj, i):\n",
        "\tfirst, second = maxsize, maxsize\n",
        "\tfor j in range(N):\n",
        "\t\tif i == j:\n",
        "\t\t\tcontinue\n",
        "\t\tif adj[i][j] <= first:\n",
        "\t\t\tsecond = first\n",
        "\t\t\tfirst = adj[i][j]\n",
        "\n",
        "\t\telif(adj[i][j] <= second and\n",
        "\t\t\tadj[i][j] != first):\n",
        "\t\t\tsecond = adj[i][j]\n",
        "\n",
        "\treturn second\n",
        "\n",
        "def TSPRec(adj, curr_bound, curr_weight,\n",
        "\t\t\tlevel, curr_path, visited):\n",
        "\tglobal final_res\n",
        "\n",
        "\n",
        "\tif level == N:\n",
        "\n",
        "\n",
        "\t\tif adj[curr_path[level - 1]][curr_path[0]] != 0:\n",
        "\n",
        "\n",
        "\t\t\tcurr_res = curr_weight + adj[curr_path[level - 1]]\\\n",
        "\t\t\t\t\t\t\t\t\t\t[curr_path[0]]\n",
        "\t\t\tif curr_res < final_res:\n",
        "\t\t\t\tcopyToFinal(curr_path)\n",
        "\t\t\t\tfinal_res = curr_res\n",
        "\t\treturn\n",
        "\tfor i in range(N):\n",
        "\t\tif (adj[curr_path[level-1]][i] != 0 and\n",
        "\t\t\t\t\t\t\tvisited[i] == False):\n",
        "\t\t\ttemp = curr_bound\n",
        "\t\t\tcurr_weight += adj[curr_path[level - 1]][i]\n",
        "\t\t\tif level == 1:\n",
        "\t\t\t\tcurr_bound -= ((firstMin(adj, curr_path[level - 1]) +\n",
        "\t\t\t\t\t\t\t\tfirstMin(adj, i)) / 2)\n",
        "\t\t\telse:\n",
        "\t\t\t\tcurr_bound -= ((secondMin(adj, curr_path[level - 1]) +\n",
        "\t\t\t\t\t\t\t\tfirstMin(adj, i)) / 2)\n",
        "\n",
        "\t\t\tif curr_bound + curr_weight < final_res:\n",
        "\t\t\t\tcurr_path[level] = i\n",
        "\t\t\t\tvisited[i] = True\n",
        "\n",
        "\n",
        "\t\t\t\tTSPRec(adj, curr_bound, curr_weight,\n",
        "\t\t\t\t\tlevel + 1, curr_path, visited)\n",
        "\t\t\tcurr_weight -= adj[curr_path[level - 1]][i]\n",
        "\t\t\tcurr_bound = temp\n",
        "\n",
        "\n",
        "\t\t\tvisited = [False] * len(visited)\n",
        "\t\t\tfor j in range(level):\n",
        "\t\t\t\tif curr_path[j] != -1:\n",
        "\t\t\t\t\tvisited[curr_path[j]] = True\n",
        "\n",
        "\n",
        "def TSP(adj):\n",
        "\n",
        "\n",
        "\tcurr_bound = 0\n",
        "\tcurr_path = [-1] * (N + 1)\n",
        "\tvisited = [False] * N\n",
        "\n",
        "\n",
        "\tfor i in range(N):\n",
        "\t\tcurr_bound += (firstMin(adj, i) +\n",
        "\t\t\t\t\tsecondMin(adj, i))\n",
        "\n",
        "\n",
        "\tcurr_bound = math.ceil(curr_bound / 2)\n",
        "\n",
        "\tvisited[0] = True\n",
        "\tcurr_path[0] = 0\n",
        "\n",
        "\n",
        "\tTSPRec(adj, curr_bound, 0, 1, curr_path, visited)\n",
        "\n",
        "adj = [[0, 10, 15, 20],\n",
        "\t[10, 0, 35, 25],\n",
        "\t[15, 35, 0, 30],\n",
        "\t[20, 25, 30, 0]]\n",
        "N = 4\n",
        "final_path = [None] * (N + 1)\n",
        "\n",
        "visited = [False] * N\n",
        "\n",
        "final_res = maxsize\n",
        "\n",
        "TSP(adj)\n",
        "\n",
        "print(\"Minimum cost :\", final_res)\n",
        "print(\"Path Taken : \", end = ' ')\n",
        "for i in range(N + 1):\n",
        "\tprint(final_path[i], end = ' ')\n",
        "\n",
        "\n"
      ],
      "metadata": {
        "colab": {
          "base_uri": "https://localhost:8080/"
        },
        "id": "BxzF49VbTy9r",
        "outputId": "cc034825-cacb-411a-ab23-2829b59ce09a"
      },
      "execution_count": null,
      "outputs": [
        {
          "output_type": "stream",
          "name": "stdout",
          "text": [
            "Minimum cost : 80\n",
            "Path Taken :  0 1 3 2 0 "
          ]
        }
      ]
    },
    {
      "cell_type": "markdown",
      "source": [
        "1(a)"
      ],
      "metadata": {
        "id": "XwgYg5RmM_Rq"
      }
    },
    {
      "cell_type": "code",
      "source": [
        "def factorial(x):\n",
        "        if x == 1:\n",
        "           return 1\n",
        "        else:\n",
        "           return (x * factorial(x-1))\n",
        "# change the value for a different result\n",
        "#num = 7\n",
        "num = int(input(\"Enter a number: \"))\n",
        "result = factorial(num)\n",
        "print(\"The factorial of\", num, \"is\", result)\n"
      ],
      "metadata": {
        "colab": {
          "base_uri": "https://localhost:8080/"
        },
        "id": "msxj8CpgM9Gj",
        "outputId": "8e13d222-b1c8-4786-efe1-32eba8cab8e8"
      },
      "execution_count": null,
      "outputs": [
        {
          "output_type": "stream",
          "name": "stdout",
          "text": [
            "Enter a number: 6\n",
            "The factorial of 6 is 720\n"
          ]
        }
      ]
    },
    {
      "cell_type": "markdown",
      "source": [
        "1(b)"
      ],
      "metadata": {
        "id": "EaR3LYmVNrLB"
      }
    },
    {
      "cell_type": "code",
      "source": [
        "def fibonacci(n):\n",
        "    if(n <= 1):\n",
        "        return n\n",
        "    else:\n",
        "        return(fibonacci(n-1) + fibonacci(n-2))\n",
        "n = int(input(\"Enter number of terms:\"))\n",
        "print(\"Fibonacci sequence:\")\n",
        "for i in range(n):\n",
        "    print(fibonacci(i))\n"
      ],
      "metadata": {
        "colab": {
          "base_uri": "https://localhost:8080/"
        },
        "id": "3BjDMlZONtSB",
        "outputId": "37f72649-7418-4566-ad8c-53de295071c3"
      },
      "execution_count": null,
      "outputs": [
        {
          "output_type": "stream",
          "name": "stdout",
          "text": [
            "Enter number of terms:6\n",
            "Fibonacci sequence:\n",
            "0\n",
            "1\n",
            "1\n",
            "2\n",
            "3\n",
            "5\n"
          ]
        }
      ]
    },
    {
      "cell_type": "markdown",
      "source": [
        "1(c)"
      ],
      "metadata": {
        "id": "8GOsfz-9N9aS"
      }
    },
    {
      "cell_type": "code",
      "source": [
        "def binary_search(L, start, end, item):\n",
        "    if end >= start:\n",
        "        middle = (start + end) // 2\n",
        "        if L[middle] == item:\n",
        "            return middle #middle element is the item to be located\n",
        "        elif L[middle] > item:\n",
        "            return binary_search(L, start, middle - 1, item)\n",
        "        else:\n",
        "            return binary_search(L, middle + 1, end, item)\n",
        "    else:\n",
        "            return -1\n",
        "\n",
        "my_list = [ 2, 4, 6, 9, 12, 16, 18, 19, 20, 21, 22 ]\n",
        "element_to_search = 6\n",
        "print(\"The given list is\")\n",
        "print(my_list)\n",
        "index_of_element = binary_search(my_list, 0, len(my_list)-1, element_to_search)\n",
        "if index_of_element != -1:\n",
        "    print(\"Element searched is found at the index \", str(index_of_element), \"of given list\")\n",
        "else:\n",
        "    print(\"Element searched is not found in the given list!\")\n"
      ],
      "metadata": {
        "colab": {
          "base_uri": "https://localhost:8080/"
        },
        "id": "K8E7qhlTN5Dp",
        "outputId": "8ee8d0bb-bbd0-4732-8bed-ea1338e6ae5f"
      },
      "execution_count": null,
      "outputs": [
        {
          "output_type": "stream",
          "name": "stdout",
          "text": [
            "The given list is\n",
            "[2, 4, 6, 9, 12, 16, 18, 19, 20, 21, 22]\n",
            "Element searched is found at the index  2 of given list\n"
          ]
        }
      ]
    },
    {
      "cell_type": "markdown",
      "source": [
        "1(d)"
      ],
      "metadata": {
        "id": "u_3uPiwKOKnR"
      }
    },
    {
      "cell_type": "code",
      "source": [
        "def TowerOfHanoi(n , source, destination, auxiliary):\n",
        "    if n==1:\n",
        "        print (\"Move disk 1 from source\",source,\"to destination\",destination)\n",
        "        return\n",
        "    TowerOfHanoi(n-1, source, auxiliary, destination)\n",
        "    print (\"Move disk\",n,\"from source\",source,\"to destination\",destination)\n",
        "    TowerOfHanoi(n-1, auxiliary, destination, source)\n",
        "n = 4\n",
        "TowerOfHanoi(n,'A','B','C')\n"
      ],
      "metadata": {
        "colab": {
          "base_uri": "https://localhost:8080/"
        },
        "id": "4z9oGBAiOvlh",
        "outputId": "56d34dc1-478f-4ba4-e8d6-3b48964fbb3e"
      },
      "execution_count": null,
      "outputs": [
        {
          "output_type": "stream",
          "name": "stdout",
          "text": [
            "Move disk 1 from source A to destination C\n",
            "Move disk 2 from source A to destination B\n",
            "Move disk 1 from source C to destination B\n",
            "Move disk 3 from source A to destination C\n",
            "Move disk 1 from source B to destination A\n",
            "Move disk 2 from source B to destination C\n",
            "Move disk 1 from source A to destination C\n",
            "Move disk 4 from source A to destination B\n",
            "Move disk 1 from source C to destination B\n",
            "Move disk 2 from source C to destination A\n",
            "Move disk 1 from source B to destination A\n",
            "Move disk 3 from source C to destination B\n",
            "Move disk 1 from source A to destination C\n",
            "Move disk 2 from source A to destination B\n",
            "Move disk 1 from source C to destination B\n"
          ]
        }
      ]
    },
    {
      "cell_type": "markdown",
      "source": [
        "1(e)"
      ],
      "metadata": {
        "id": "J-bfY2UdPAhp"
      }
    },
    {
      "cell_type": "code",
      "source": [
        "def maxelement(lst):\n",
        "    print(max(lst))\n",
        "\n",
        "lst = [20, 10, 20, 4, 100]\n",
        "maxelement(lst)\n"
      ],
      "metadata": {
        "colab": {
          "base_uri": "https://localhost:8080/"
        },
        "id": "8uurtKqMO9Lp",
        "outputId": "7697d72f-5b94-40d2-8f40-ed08ed6e294c"
      },
      "execution_count": null,
      "outputs": [
        {
          "output_type": "stream",
          "name": "stdout",
          "text": [
            "100\n"
          ]
        }
      ]
    },
    {
      "cell_type": "markdown",
      "source": [
        "1(f)"
      ],
      "metadata": {
        "id": "eHutwBIiPRTh"
      }
    },
    {
      "cell_type": "code",
      "source": [
        "test_list = [1, 3, 4, 6, 7]\n",
        "print (\"The original list is : \" + str(test_list))\n",
        "flag = 0\n",
        "flag = len(set(test_list)) == len(test_list)\n",
        "if(flag) :\n",
        "    print (\"List contains all unique elements\")\n",
        "else :\n",
        "    print (\"List contains does not contains all unique elements\")\n"
      ],
      "metadata": {
        "colab": {
          "base_uri": "https://localhost:8080/"
        },
        "id": "IRP-EEI1PMvJ",
        "outputId": "42120bde-f8bc-403f-80df-8ec4e3cccea7"
      },
      "execution_count": null,
      "outputs": [
        {
          "output_type": "stream",
          "name": "stdout",
          "text": [
            "The original list is : [1, 3, 4, 6, 7]\n",
            "List contains all unique elements\n"
          ]
        }
      ]
    },
    {
      "cell_type": "markdown",
      "source": [
        "1(g)"
      ],
      "metadata": {
        "id": "acnFsMoDPaFB"
      }
    },
    {
      "cell_type": "code",
      "source": [
        "A = [[12, 7, 3],\n",
        "    [4, 5, 6],\n",
        "    [7, 8, 9]]\n",
        "B = [[5, 8, 1, 2],\n",
        "    [6, 7, 3, 0],\n",
        "    [4, 5, 9, 1]]\n",
        "result = [[0, 0, 0, 0],\n",
        "        [0, 0, 0, 0],\n",
        "        [0, 0, 0, 0]]\n",
        "for i in range(len(A)):\n",
        "     for j in range(len(B[0])):\n",
        "         for k in range(len(B)):\n",
        "            result[i][j] += A[i][k] * B[k][j]\n",
        "for r in result:\n",
        "    print(r)\n",
        "\n",
        "\n"
      ],
      "metadata": {
        "colab": {
          "base_uri": "https://localhost:8080/"
        },
        "id": "V-a-7pxiPcrh",
        "outputId": "5ed0d13b-0356-457f-ddf5-bd14e657e2c7"
      },
      "execution_count": null,
      "outputs": [
        {
          "output_type": "stream",
          "name": "stdout",
          "text": [
            "[114, 160, 60, 27]\n",
            "[74, 97, 73, 14]\n",
            "[119, 157, 112, 23]\n"
          ]
        }
      ]
    }
  ]
}